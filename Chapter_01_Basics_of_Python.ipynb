{
  "nbformat": 4,
  "nbformat_minor": 0,
  "metadata": {
    "colab": {
      "name": "EN-TA Chapter 01: Basics of Python.ipynb",
      "provenance": [],
      "collapsed_sections": [
        "nJYyIbZ_WbFT",
        "DuY3oXKNWd1h",
        "iEQQbsVFWkKi",
        "JUULnsP_Xemv",
        "cGqtdDyYX1Dk",
        "EMAdDk_6YXgw",
        "Kd-SYHI-ZF85",
        "2UHCKDk8bJEf",
        "W9Vc62veaNKg",
        "7xKs11J6akHQ",
        "wwObVh1w9Wl9",
        "-9ElsbKP-xvK",
        "emrr2xJjhmKd",
        "4NWfx4mRhpgX",
        "S0TnQtBMfRXB",
        "F8rax_dDgnFI",
        "oYh-hMSTB1Ur",
        "KE9L44nED-JK",
        "Qy6T6HOiGHaN",
        "7ilLgwf1HIMw",
        "MLRfDnNGHUkI",
        "EdYvgavpJPGK",
        "xLPPB2NOJUSq",
        "XM6mdryCRCAm",
        "D5KoCwIFT27I",
        "aH-i3Tn3UjJ_",
        "C6_cmiswU2AW",
        "asuSI8Jg0EaC",
        "ppony41B0G1i"
      ]
    },
    "kernelspec": {
      "name": "python3",
      "display_name": "Python 3"
    }
  },
  "cells": [
    {
      "cell_type": "markdown",
      "metadata": {
        "id": "HwIk5lNgltIS"
      },
      "source": [
        "<p><img alt=\"Colaboratory logo\" height=\"45px\" src=\"https://www.quantreo.com/wp-content/uploads/2021/10/Original-on-Transparent.png\" align=\"left\" hspace=\"10px\" vspace=\"0px\"></p>\n",
        "\n",
        "\n",
        "# PREREQUISITES  - **Python basics**\n",
        "\n",
        "This chapter will give you the python basics you need to follow the rest of the course. These are only reminders of what will be helpful. That's why I advise you to follow free quick Python training for your projects because if you are total strangers to it, it can be hard to do your project.\n",
        "\n",
        "\n",
        "### Part 1: The Python basics\n",
        "* Types of objects:\n",
        "> * Numbers , Strings, Booleans\n",
        "> * Tuples, Lists\n",
        "> * Variable assignment\n",
        "* Python Structures:\n",
        "> * If/Elif/Else\n",
        "> * FOR\n",
        "> * While\n",
        "* The Functions\n",
        "> * Basis of functions\n",
        "> * Local variable\n",
        "> * Global varible\n",
        "> * Lambda function\n",
        "\n",
        "\n",
        "\n",
        "💰Join our community: https://discord.gg/wXjNPAc5BH\n",
        "\n",
        "📚Read our book: https://www.amazon.com/gp/product/B09HG18CYL \n",
        "\n",
        "🖥️Quantreo's YouTube channel: https://www.youtube.com/channel/UCp7jckfiEglNf_Gj62VR0pw\n",
        "\n",
        "\n",
        "\n",
        "\n"
      ]
    },
    {
      "cell_type": "markdown",
      "metadata": {
        "id": "nJYyIbZ_WbFT"
      },
      "source": [
        "### Types of objects"
      ]
    },
    {
      "cell_type": "markdown",
      "metadata": {
        "id": "DuY3oXKNWd1h"
      },
      "source": [
        "##### Numbers"
      ]
    },
    {
      "cell_type": "code",
      "metadata": {
        "id": "yoYnGbme8kcq",
        "colab": {
          "base_uri": "https://localhost:8080/"
        },
        "outputId": "2d8a9a0e-94c1-4705-8ca8-cf2920544075"
      },
      "source": [
        "# Addition\n",
        "6 + 3"
      ],
      "execution_count": null,
      "outputs": [
        {
          "output_type": "execute_result",
          "data": {
            "text/plain": [
              "9"
            ]
          },
          "metadata": {},
          "execution_count": 1
        }
      ]
    },
    {
      "cell_type": "code",
      "metadata": {
        "id": "lPQ-ZedRCtL0",
        "colab": {
          "base_uri": "https://localhost:8080/"
        },
        "outputId": "584b2b3c-f900-4623-8e1f-7ebd0e1b8c94"
      },
      "source": [
        "# Substraction\n",
        "6 - 3"
      ],
      "execution_count": null,
      "outputs": [
        {
          "output_type": "execute_result",
          "data": {
            "text/plain": [
              "3"
            ]
          },
          "metadata": {},
          "execution_count": 2
        }
      ]
    },
    {
      "cell_type": "code",
      "metadata": {
        "id": "FSWWYIqBCwlg",
        "colab": {
          "base_uri": "https://localhost:8080/"
        },
        "outputId": "9b8cda14-bf9b-4156-eee7-37ec890f074b"
      },
      "source": [
        "# Multiplication\n",
        "6 * 3"
      ],
      "execution_count": null,
      "outputs": [
        {
          "output_type": "execute_result",
          "data": {
            "text/plain": [
              "18"
            ]
          },
          "metadata": {},
          "execution_count": 3
        }
      ]
    },
    {
      "cell_type": "code",
      "metadata": {
        "id": "fMQNWXVvC0Sx",
        "colab": {
          "base_uri": "https://localhost:8080/"
        },
        "outputId": "9ddf66b8-468a-4769-8bc7-87ea658e88f3"
      },
      "source": [
        "# Division \n",
        "16 / 3"
      ],
      "execution_count": null,
      "outputs": [
        {
          "output_type": "execute_result",
          "data": {
            "text/plain": [
              "5.333333333333333"
            ]
          },
          "metadata": {},
          "execution_count": 4
        }
      ]
    },
    {
      "cell_type": "code",
      "metadata": {
        "id": "DH1jRr5_Xxo2",
        "colab": {
          "base_uri": "https://localhost:8080/"
        },
        "outputId": "3b653c4a-c9b7-4e7e-c9b9-767272aa7351"
      },
      "source": [
        "# Power 2*2*2\n",
        "2**3"
      ],
      "execution_count": null,
      "outputs": [
        {
          "output_type": "execute_result",
          "data": {
            "text/plain": [
              "8"
            ]
          },
          "metadata": {},
          "execution_count": 5
        }
      ]
    },
    {
      "cell_type": "code",
      "metadata": {
        "id": "abqfE8I2C2cr",
        "colab": {
          "base_uri": "https://localhost:8080/"
        },
        "outputId": "46a82bd7-d681-4044-fa41-098d4987505f"
      },
      "source": [
        "# Whole divsion (euclidian) | 5.33 --> 5\n",
        "16 // 3"
      ],
      "execution_count": null,
      "outputs": [
        {
          "output_type": "execute_result",
          "data": {
            "text/plain": [
              "5"
            ]
          },
          "metadata": {},
          "execution_count": 6
        }
      ]
    },
    {
      "cell_type": "code",
      "metadata": {
        "id": "SnktoxGAC_ew",
        "colab": {
          "base_uri": "https://localhost:8080/"
        },
        "outputId": "b9fe0594-8098-4e84-a187-faac87993517"
      },
      "source": [
        "# Modulo | 16 = 5*3 + 1 \n",
        "16 % 3"
      ],
      "execution_count": null,
      "outputs": [
        {
          "output_type": "execute_result",
          "data": {
            "text/plain": [
              "1"
            ]
          },
          "metadata": {},
          "execution_count": 7
        }
      ]
    },
    {
      "cell_type": "markdown",
      "metadata": {
        "id": "iEQQbsVFWkKi"
      },
      "source": [
        "##### String"
      ]
    },
    {
      "cell_type": "code",
      "metadata": {
        "id": "8jOPFgexDF2H",
        "colab": {
          "base_uri": "https://localhost:8080/"
        },
        "outputId": "231a1cf4-dc96-4a8f-a1dc-1fdabe7b599c"
      },
      "source": [
        "# Simple string\n",
        "print(\"I'm an information\")"
      ],
      "execution_count": null,
      "outputs": [
        {
          "output_type": "stream",
          "name": "stdout",
          "text": [
            "I'm an information\n"
          ]
        }
      ]
    },
    {
      "cell_type": "code",
      "metadata": {
        "colab": {
          "base_uri": "https://localhost:8080/"
        },
        "id": "ibeFvaYOnCDd",
        "outputId": "a4ad6243-c950-467e-8ece-40b9ab564147"
      },
      "source": [
        "# Add a tabulation\n",
        "print(\"Mean:10% \\t Volatily:10%\")"
      ],
      "execution_count": null,
      "outputs": [
        {
          "output_type": "stream",
          "name": "stdout",
          "text": [
            "Mean:10% \t Volatily:10%\n"
          ]
        }
      ]
    },
    {
      "cell_type": "code",
      "metadata": {
        "colab": {
          "base_uri": "https://localhost:8080/"
        },
        "id": "rGWkCu3vpDoW",
        "outputId": "1063cef1-86b7-4b40-b9ff-db1a3f0447d8"
      },
      "source": [
        "# Skip a line\n",
        "print(\"Mean:10% \\nVolatily:10%\")"
      ],
      "execution_count": null,
      "outputs": [
        {
          "output_type": "stream",
          "name": "stdout",
          "text": [
            "Mean:10% \n",
            "Volatily:10%\n"
          ]
        }
      ]
    },
    {
      "cell_type": "code",
      "metadata": {
        "id": "zLAVLu5rWv2a",
        "colab": {
          "base_uri": "https://localhost:8080/"
        },
        "outputId": "c8a2ea8f-5b3f-4bca-bbc1-4e8b7e807720"
      },
      "source": [
        "# Dynamic String (first possibility: simple string using the format function)\n",
        "print(\"Tesla stock price: {}$ at date {}\".format(110,\"01-01-2020\"))"
      ],
      "execution_count": null,
      "outputs": [
        {
          "output_type": "stream",
          "name": "stdout",
          "text": [
            "Tesla stock price: 110$ at date 01-01-2020\n"
          ]
        }
      ]
    },
    {
      "cell_type": "code",
      "metadata": {
        "id": "shGzNr67Wvx0",
        "colab": {
          "base_uri": "https://localhost:8080/"
        },
        "outputId": "00ddcbd2-3003-4217-ce45-ea3ac520a23d"
      },
      "source": [
        "# Dynamic String (second possibility: f-string )\n",
        "print(f\"Tesla stock price: {110}$ at date {'01-01-2010'}\")"
      ],
      "execution_count": null,
      "outputs": [
        {
          "output_type": "stream",
          "name": "stdout",
          "text": [
            "Tesla stock price: 110$ at date 01-01-2010\n"
          ]
        }
      ]
    },
    {
      "cell_type": "code",
      "metadata": {
        "colab": {
          "base_uri": "https://localhost:8080/"
        },
        "id": "Uaz_tqJgpMae",
        "outputId": "5b16d6fa-e4bf-425e-d45b-9106e7cb496e"
      },
      "source": [
        "# Round a number into a f-string\n",
        "print(f\"Tesla stock price: {'%.1f' % 110.15645147854}$\")"
      ],
      "execution_count": null,
      "outputs": [
        {
          "output_type": "stream",
          "name": "stdout",
          "text": [
            "Tesla stock price: 110.2$\n"
          ]
        }
      ]
    },
    {
      "cell_type": "code",
      "metadata": {
        "id": "ud27MNZYdwSG",
        "colab": {
          "base_uri": "https://localhost:8080/",
          "height": 37
        },
        "outputId": "8ea0fded-3b6e-4c2f-c790-a595162851e8"
      },
      "source": [
        "# Slicing on strings\n",
        "\"I'm an information\"[0:6]"
      ],
      "execution_count": null,
      "outputs": [
        {
          "output_type": "execute_result",
          "data": {
            "application/vnd.google.colaboratory.intrinsic+json": {
              "type": "string"
            },
            "text/plain": [
              "\"I'm an\""
            ]
          },
          "metadata": {},
          "execution_count": 26
        }
      ]
    },
    {
      "cell_type": "markdown",
      "metadata": {
        "id": "JUULnsP_Xemv"
      },
      "source": [
        "##### Booleans / logical operations"
      ]
    },
    {
      "cell_type": "code",
      "metadata": {
        "id": "vM_KlXcMWvtr",
        "colab": {
          "base_uri": "https://localhost:8080/"
        },
        "outputId": "e133c351-1656-4fb5-a0f3-b7f8893afe88"
      },
      "source": [
        "# Boolean type (True)\n",
        "True"
      ],
      "execution_count": null,
      "outputs": [
        {
          "output_type": "execute_result",
          "data": {
            "text/plain": [
              "True"
            ]
          },
          "metadata": {},
          "execution_count": 27
        }
      ]
    },
    {
      "cell_type": "code",
      "metadata": {
        "id": "53gTC6s5WvsF",
        "colab": {
          "base_uri": "https://localhost:8080/"
        },
        "outputId": "b4e99819-2bed-4215-8ef0-43710462f526"
      },
      "source": [
        "# Boolean type (False)\n",
        "False"
      ],
      "execution_count": null,
      "outputs": [
        {
          "output_type": "execute_result",
          "data": {
            "text/plain": [
              "False"
            ]
          },
          "metadata": {},
          "execution_count": 28
        }
      ]
    },
    {
      "cell_type": "code",
      "metadata": {
        "id": "IoozzT2bdK_u",
        "colab": {
          "base_uri": "https://localhost:8080/"
        },
        "outputId": "d99e36c5-b946-4b50-8b74-0281af3a4c6c"
      },
      "source": [
        "# Equality\n",
        "5 == 6"
      ],
      "execution_count": null,
      "outputs": [
        {
          "output_type": "execute_result",
          "data": {
            "text/plain": [
              "False"
            ]
          },
          "metadata": {},
          "execution_count": 29
        }
      ]
    },
    {
      "cell_type": "code",
      "metadata": {
        "id": "_f1XD2w3dgY5",
        "colab": {
          "base_uri": "https://localhost:8080/"
        },
        "outputId": "d704a978-1775-4be1-e503-bce578714055"
      },
      "source": [
        "# Sup\n",
        "5 > 6"
      ],
      "execution_count": null,
      "outputs": [
        {
          "output_type": "execute_result",
          "data": {
            "text/plain": [
              "False"
            ]
          },
          "metadata": {},
          "execution_count": 30
        }
      ]
    },
    {
      "cell_type": "code",
      "metadata": {
        "id": "yZj4kBbLdkUo",
        "colab": {
          "base_uri": "https://localhost:8080/"
        },
        "outputId": "1ac716cf-96ff-40d4-ad3f-3306b85b9066"
      },
      "source": [
        "# Inf\n",
        "5 < 6"
      ],
      "execution_count": null,
      "outputs": [
        {
          "output_type": "execute_result",
          "data": {
            "text/plain": [
              "True"
            ]
          },
          "metadata": {},
          "execution_count": 31
        }
      ]
    },
    {
      "cell_type": "code",
      "metadata": {
        "id": "BbEIqsW4ducB",
        "colab": {
          "base_uri": "https://localhost:8080/"
        },
        "outputId": "28a920a1-4e09-420c-e792-92483b8ff17e"
      },
      "source": [
        "# Not Equal\n",
        "5 != 6"
      ],
      "execution_count": null,
      "outputs": [
        {
          "output_type": "execute_result",
          "data": {
            "text/plain": [
              "True"
            ]
          },
          "metadata": {},
          "execution_count": 32
        }
      ]
    },
    {
      "cell_type": "code",
      "metadata": {
        "id": "15J-4du3d0o-",
        "colab": {
          "base_uri": "https://localhost:8080/"
        },
        "outputId": "e231bd80-2c5d-4660-ce69-5716dd983eb8"
      },
      "source": [
        "# And \n",
        "(1<2) and (5>6)"
      ],
      "execution_count": null,
      "outputs": [
        {
          "output_type": "execute_result",
          "data": {
            "text/plain": [
              "False"
            ]
          },
          "metadata": {},
          "execution_count": 35
        }
      ]
    },
    {
      "cell_type": "code",
      "metadata": {
        "id": "XtzLTurHd47e",
        "colab": {
          "base_uri": "https://localhost:8080/"
        },
        "outputId": "1f1de212-b53b-4547-cab4-6d4a309db4d1"
      },
      "source": [
        "# Or\n",
        "(1<2) or (5>6)"
      ],
      "execution_count": null,
      "outputs": [
        {
          "output_type": "execute_result",
          "data": {
            "text/plain": [
              "True"
            ]
          },
          "metadata": {},
          "execution_count": 36
        }
      ]
    },
    {
      "cell_type": "code",
      "metadata": {
        "id": "pTRdjRHyZKZ7",
        "colab": {
          "base_uri": "https://localhost:8080/"
        },
        "outputId": "a383c1c0-faf9-4db1-c2d4-f122d072a624"
      },
      "source": [
        "# Not \n",
        "not (5>6)"
      ],
      "execution_count": null,
      "outputs": [
        {
          "output_type": "execute_result",
          "data": {
            "text/plain": [
              "True"
            ]
          },
          "metadata": {},
          "execution_count": 38
        }
      ]
    },
    {
      "cell_type": "markdown",
      "metadata": {
        "id": "cGqtdDyYX1Dk"
      },
      "source": [
        "##### Variable assignment"
      ]
    },
    {
      "cell_type": "code",
      "metadata": {
        "id": "q3PsKlhZWvlz",
        "colab": {
          "base_uri": "https://localhost:8080/"
        },
        "outputId": "63b86c48-9089-428f-be22-44c593c02641"
      },
      "source": [
        "# Numerical variables\n",
        "x = 6\n",
        "y = 6\n",
        "print(x + y)"
      ],
      "execution_count": null,
      "outputs": [
        {
          "output_type": "stream",
          "name": "stdout",
          "text": [
            "12\n"
          ]
        }
      ]
    },
    {
      "cell_type": "code",
      "metadata": {
        "id": "NrwwCpCCWvkU",
        "colab": {
          "base_uri": "https://localhost:8080/"
        },
        "outputId": "da5d461e-45aa-49dc-ff93-1f2fbff625f3"
      },
      "source": [
        "# String variables\n",
        "date = \"03-01-2020\"\n",
        "price = 150\n",
        "info = f\"Tesla: {price}, date: {date}\"\n",
        "\n",
        "print(info)"
      ],
      "execution_count": null,
      "outputs": [
        {
          "output_type": "stream",
          "name": "stdout",
          "text": [
            "Tesla: 150, date: 03-01-2020\n"
          ]
        }
      ]
    },
    {
      "cell_type": "code",
      "metadata": {
        "id": "ufENsej-WveT",
        "colab": {
          "base_uri": "https://localhost:8080/"
        },
        "outputId": "3a5216b2-7619-49f9-b48a-0af87142bb76"
      },
      "source": [
        "# Boolean variables\n",
        "time = \"20:00\"\n",
        "market_open = (\"08:00\" < time) and (time < \"19:00\")\n",
        "print(market_open)"
      ],
      "execution_count": null,
      "outputs": [
        {
          "output_type": "stream",
          "name": "stdout",
          "text": [
            "False\n"
          ]
        }
      ]
    },
    {
      "cell_type": "markdown",
      "metadata": {
        "id": "EMAdDk_6YXgw"
      },
      "source": [
        "##### Tuples, lists"
      ]
    },
    {
      "cell_type": "code",
      "metadata": {
        "id": "WY3Eyz5PWvcm",
        "colab": {
          "base_uri": "https://localhost:8080/"
        },
        "outputId": "78bffd20-dc78-4e41-b509-b0e822809c52"
      },
      "source": [
        "# Tuple\n",
        "my_tuple = (1,2,3)\n",
        "my_tuple"
      ],
      "execution_count": null,
      "outputs": [
        {
          "output_type": "execute_result",
          "data": {
            "text/plain": [
              "(1, 2, 3)"
            ]
          },
          "metadata": {},
          "execution_count": 47
        }
      ]
    },
    {
      "cell_type": "code",
      "metadata": {
        "id": "L7RGe8QgWvYt",
        "colab": {
          "base_uri": "https://localhost:8080/"
        },
        "outputId": "807431bc-4bd3-427e-c252-78660b62074b"
      },
      "source": [
        "# List creation\n",
        "my_list = [1,2,3,4,5,6,7,8,9,10]\n",
        "my_list"
      ],
      "execution_count": null,
      "outputs": [
        {
          "output_type": "execute_result",
          "data": {
            "text/plain": [
              "[1, 2, 3, 4, 5, 6, 7, 8, 9, 10]"
            ]
          },
          "metadata": {},
          "execution_count": 48
        }
      ]
    },
    {
      "cell_type": "code",
      "metadata": {
        "id": "OSQw1R5yWvPy",
        "colab": {
          "base_uri": "https://localhost:8080/"
        },
        "outputId": "050ca0f6-57ed-4866-be1c-1a5f75c088d9"
      },
      "source": [
        "# Adding value\n",
        "my_list.append(11)\n",
        "my_list"
      ],
      "execution_count": null,
      "outputs": [
        {
          "output_type": "execute_result",
          "data": {
            "text/plain": [
              "[1, 2, 3, 4, 5, 6, 7, 8, 9, 10, 11]"
            ]
          },
          "metadata": {},
          "execution_count": 49
        }
      ]
    },
    {
      "cell_type": "code",
      "metadata": {
        "colab": {
          "base_uri": "https://localhost:8080/"
        },
        "id": "8p9Tpd42zOq_",
        "outputId": "e8928d7f-a15b-4de0-a11c-8930469e27be"
      },
      "source": [
        "# Adding value\n",
        "my_list.extend([12,13,14,15,16,17])\n",
        "my_list"
      ],
      "execution_count": null,
      "outputs": [
        {
          "output_type": "execute_result",
          "data": {
            "text/plain": [
              "[1, 2, 3, 4, 5, 6, 7, 8, 9, 10, 11, 12, 13, 14, 15, 16, 17]"
            ]
          },
          "metadata": {},
          "execution_count": 50
        }
      ]
    },
    {
      "cell_type": "code",
      "metadata": {
        "id": "i391z7t4ZwnM",
        "colab": {
          "base_uri": "https://localhost:8080/"
        },
        "outputId": "17bac205-177d-49cf-eea9-b9e79bbd76ae"
      },
      "source": [
        "# Indexing\n",
        "my_list[0]"
      ],
      "execution_count": null,
      "outputs": [
        {
          "output_type": "execute_result",
          "data": {
            "text/plain": [
              "1"
            ]
          },
          "metadata": {},
          "execution_count": 51
        }
      ]
    },
    {
      "cell_type": "code",
      "metadata": {
        "id": "owXGp0IsZ3Lg",
        "colab": {
          "base_uri": "https://localhost:8080/"
        },
        "outputId": "42f37399-d777-46ba-c645-1e66a5354e23"
      },
      "source": [
        "# Value range selection\n",
        "my_list[0:9]"
      ],
      "execution_count": null,
      "outputs": [
        {
          "output_type": "execute_result",
          "data": {
            "text/plain": [
              "[1, 2, 3, 4, 5, 6, 7, 8, 9]"
            ]
          },
          "metadata": {},
          "execution_count": 52
        }
      ]
    },
    {
      "cell_type": "code",
      "metadata": {
        "id": "g5SsaYNjZ6Jo",
        "colab": {
          "base_uri": "https://localhost:8080/"
        },
        "outputId": "5300ac9e-252f-4aaa-fc9d-ac4ffa949ade"
      },
      "source": [
        "# Delete a value\n",
        "del my_list[0]\n",
        "my_list"
      ],
      "execution_count": null,
      "outputs": [
        {
          "output_type": "execute_result",
          "data": {
            "text/plain": [
              "[2, 3, 4, 5, 6, 7, 8, 9, 10, 11, 12, 13, 14, 15, 16, 17]"
            ]
          },
          "metadata": {},
          "execution_count": 53
        }
      ]
    },
    {
      "cell_type": "code",
      "metadata": {
        "id": "JH1xzsjTZOhr",
        "colab": {
          "base_uri": "https://localhost:8080/"
        },
        "outputId": "b03ae4b3-2f68-45b9-f43c-742178f340b0"
      },
      "source": [
        "# Bonus: Nested List\n",
        "my_list = [[1,15], 3, \"Finance\"]\n",
        "\n",
        "# Print the sublist\n",
        "print(my_list[0])\n",
        "\n",
        "# Print value 15\n",
        "print(my_list[0][1])"
      ],
      "execution_count": null,
      "outputs": [
        {
          "output_type": "stream",
          "name": "stdout",
          "text": [
            "[1, 15]\n",
            "15\n"
          ]
        }
      ]
    },
    {
      "cell_type": "markdown",
      "metadata": {
        "id": "Kd-SYHI-ZF85"
      },
      "source": [
        "##### Dictionary"
      ]
    },
    {
      "cell_type": "code",
      "metadata": {
        "id": "7PasvUGAZw7L"
      },
      "source": [
        "# Initialize a dictionnary\n",
        "dic = {}"
      ],
      "execution_count": null,
      "outputs": []
    },
    {
      "cell_type": "code",
      "metadata": {
        "id": "FngIfxOfZ-o5",
        "colab": {
          "base_uri": "https://localhost:8080/"
        },
        "outputId": "523f8c4a-6821-4911-e406-638a216c7dcc"
      },
      "source": [
        "# Initialize with values\n",
        "dic = {\"Tesla price\" : 1500,\n",
        "       \"Google price\": 3000}\n",
        "dic"
      ],
      "execution_count": null,
      "outputs": [
        {
          "output_type": "execute_result",
          "data": {
            "text/plain": [
              "{'Google price': 3000, 'Tesla price': 1500}"
            ]
          },
          "metadata": {},
          "execution_count": 59
        }
      ]
    },
    {
      "cell_type": "code",
      "metadata": {
        "id": "XT9t_7nraYJL",
        "colab": {
          "base_uri": "https://localhost:8080/"
        },
        "outputId": "dfbd29d5-bc18-462b-9556-632f234eaf4d"
      },
      "source": [
        "# Add a value\n",
        "dic[\"Microsoft price\"] = 1500\n",
        "dic"
      ],
      "execution_count": null,
      "outputs": [
        {
          "output_type": "execute_result",
          "data": {
            "text/plain": [
              "{'Google price': 3000, 'Microsoft price': 1500, 'Tesla price': 1500}"
            ]
          },
          "metadata": {},
          "execution_count": 60
        }
      ]
    },
    {
      "cell_type": "code",
      "metadata": {
        "colab": {
          "base_uri": "https://localhost:8080/"
        },
        "id": "1fnoJHGmaRtG",
        "outputId": "5b6adf4d-bd19-4e3a-9272-8aa929c52c21"
      },
      "source": [
        "# Change a value\n",
        "dic[\"Microsoft price\"] = 3000\n",
        "dic"
      ],
      "execution_count": null,
      "outputs": [
        {
          "output_type": "execute_result",
          "data": {
            "text/plain": [
              "{'Google price': 3000, 'Microsoft price': 3000, 'Tesla price': 1500}"
            ]
          },
          "metadata": {},
          "execution_count": 61
        }
      ]
    },
    {
      "cell_type": "code",
      "metadata": {
        "id": "t4GhmGtdapWP",
        "colab": {
          "base_uri": "https://localhost:8080/"
        },
        "outputId": "db4e8388-5893-4198-852c-a8240fb4c9f2"
      },
      "source": [
        "# Extract a value\n",
        "dic[\"Microsoft price\"]"
      ],
      "execution_count": null,
      "outputs": [
        {
          "output_type": "execute_result",
          "data": {
            "text/plain": [
              "3000"
            ]
          },
          "metadata": {},
          "execution_count": 62
        }
      ]
    },
    {
      "cell_type": "code",
      "metadata": {
        "colab": {
          "base_uri": "https://localhost:8080/"
        },
        "id": "rOBalLlC3Et8",
        "outputId": "917f94cb-b245-499b-d306-f1916699142f"
      },
      "source": [
        "# Delete a value\n",
        "del dic[\"Microsoft price\"]\n",
        "dic"
      ],
      "execution_count": null,
      "outputs": [
        {
          "output_type": "execute_result",
          "data": {
            "text/plain": [
              "{'Google price': 3000, 'Tesla price': 1500}"
            ]
          },
          "metadata": {},
          "execution_count": 63
        }
      ]
    },
    {
      "cell_type": "code",
      "metadata": {
        "colab": {
          "base_uri": "https://localhost:8080/"
        },
        "id": "otvn059la3Ct",
        "outputId": "091edcda-ea36-45b2-e95c-0c5142427f75"
      },
      "source": [
        "# How to extract the key names\n",
        "dic.keys()"
      ],
      "execution_count": null,
      "outputs": [
        {
          "output_type": "execute_result",
          "data": {
            "text/plain": [
              "dict_keys(['Tesla price', 'Google price'])"
            ]
          },
          "metadata": {},
          "execution_count": 64
        }
      ]
    },
    {
      "cell_type": "code",
      "metadata": {
        "colab": {
          "base_uri": "https://localhost:8080/"
        },
        "id": "ndKUymfzbF4t",
        "outputId": "9a1b3f20-e79f-472e-ea27-88001260ca48"
      },
      "source": [
        "# How to extract the values names\n",
        "dic.values()"
      ],
      "execution_count": null,
      "outputs": [
        {
          "output_type": "execute_result",
          "data": {
            "text/plain": [
              "dict_values([1500, 3000])"
            ]
          },
          "metadata": {},
          "execution_count": 65
        }
      ]
    },
    {
      "cell_type": "markdown",
      "metadata": {
        "id": "2UHCKDk8bJEf"
      },
      "source": [
        "##### Sets"
      ]
    },
    {
      "cell_type": "code",
      "metadata": {
        "id": "viHNp-EHbQ9H",
        "colab": {
          "base_uri": "https://localhost:8080/"
        },
        "outputId": "e1600ec1-f1fd-4784-eb79-6ee33056d979"
      },
      "source": [
        "# Create a set\n",
        "{1,3,9}"
      ],
      "execution_count": null,
      "outputs": [
        {
          "output_type": "execute_result",
          "data": {
            "text/plain": [
              "{1, 3, 9}"
            ]
          },
          "metadata": {},
          "execution_count": 68
        }
      ]
    },
    {
      "cell_type": "code",
      "metadata": {
        "id": "_E1aFnTcbYpJ",
        "colab": {
          "base_uri": "https://localhost:8080/"
        },
        "outputId": "3d8f68a2-5acd-4cf5-d303-6844700b0671"
      },
      "source": [
        "# View a property\n",
        "{1,1,1, 3,3,3, 9,9,9}"
      ],
      "execution_count": null,
      "outputs": [
        {
          "output_type": "execute_result",
          "data": {
            "text/plain": [
              "{1, 3, 9}"
            ]
          },
          "metadata": {},
          "execution_count": 69
        }
      ]
    },
    {
      "cell_type": "code",
      "metadata": {
        "id": "2kc9rLF6be3l",
        "colab": {
          "base_uri": "https://localhost:8080/"
        },
        "outputId": "49404fe9-4990-46b5-b5a9-3301604b9cf9"
      },
      "source": [
        "# Create a list\n",
        "my_list = [\"Finance\", \"Statistics\", \"Mathematics\",\n",
        "           \"Finance\", \"Statistics\", \"Finance\",\n",
        "           \"Mathematics\", \"Finance\", \"Statistics\"]\n",
        "\n",
        "# Transform the list into a set\n",
        "set(my_list)"
      ],
      "execution_count": null,
      "outputs": [
        {
          "output_type": "execute_result",
          "data": {
            "text/plain": [
              "{'Finance', 'Mathematics', 'Statistics'}"
            ]
          },
          "metadata": {},
          "execution_count": 70
        }
      ]
    },
    {
      "cell_type": "code",
      "metadata": {
        "id": "s2b-8LgkcLs1",
        "colab": {
          "base_uri": "https://localhost:8080/"
        },
        "outputId": "4ef0fc8b-519c-48fe-edb6-288ff73f03cf"
      },
      "source": [
        "# Add a value\n",
        "s = {1,3,5}\n",
        "print(s)\n",
        "\n",
        "s.add(56)\n",
        "s.add(68)\n",
        "print(s)"
      ],
      "execution_count": null,
      "outputs": [
        {
          "output_type": "stream",
          "name": "stdout",
          "text": [
            "{1, 3, 5}\n",
            "{1, 3, 68, 5, 56}\n"
          ]
        }
      ]
    },
    {
      "cell_type": "markdown",
      "metadata": {
        "id": "W9Vc62veaNKg"
      },
      "source": [
        "### Python Structures"
      ]
    },
    {
      "cell_type": "markdown",
      "metadata": {
        "id": "7xKs11J6akHQ"
      },
      "source": [
        "##### If/ Elif/ Else"
      ]
    },
    {
      "cell_type": "code",
      "metadata": {
        "id": "CqZigieEaOkf"
      },
      "source": [
        "# Conditionnal structure IF\n",
        "if 5>6:\n",
        "  print(\"yes\")"
      ],
      "execution_count": null,
      "outputs": []
    },
    {
      "cell_type": "code",
      "metadata": {
        "id": "neKqpCKn8y9N",
        "colab": {
          "base_uri": "https://localhost:8080/"
        },
        "outputId": "8cc9ffdc-3d28-469d-fc3e-75c82650ff2c"
      },
      "source": [
        "# Conditionnal structure IF/ ELSE\n",
        "if 5>6:\n",
        "  print(\"yes\")\n",
        "else:\n",
        "  print(\"no\")"
      ],
      "execution_count": null,
      "outputs": [
        {
          "output_type": "stream",
          "name": "stdout",
          "text": [
            "no\n"
          ]
        }
      ]
    },
    {
      "cell_type": "code",
      "metadata": {
        "id": "qEKi-yu_873c",
        "colab": {
          "base_uri": "https://localhost:8080/"
        },
        "outputId": "60be59bf-4fb6-4222-9c8f-3d0d9d8858b8"
      },
      "source": [
        "# Conditionnal structure IF/ ELIF/ ELSE\n",
        "x = 11\n",
        "\n",
        "if x>=15:\n",
        "  print(\"X>=15\")\n",
        "elif x>10:\n",
        "  print(\"10<X<15\")\n",
        "else:\n",
        "  print(\"X=<10\")"
      ],
      "execution_count": null,
      "outputs": [
        {
          "output_type": "stream",
          "name": "stdout",
          "text": [
            "10<X<15\n"
          ]
        }
      ]
    },
    {
      "cell_type": "markdown",
      "metadata": {
        "id": "wwObVh1w9Wl9"
      },
      "source": [
        "##### Loop for"
      ]
    },
    {
      "cell_type": "code",
      "metadata": {
        "id": "I8BKwywY9iKQ",
        "colab": {
          "base_uri": "https://localhost:8080/"
        },
        "outputId": "d12d8df8-c57b-4a3d-94e6-5b978b68d31c"
      },
      "source": [
        "# Loop for with a sequence\n",
        "sequence = [1,2,3,4,5,6,7,8,9]\n",
        "\n",
        "for item in sequence:\n",
        "  print(item**2)"
      ],
      "execution_count": null,
      "outputs": [
        {
          "output_type": "stream",
          "name": "stdout",
          "text": [
            "1\n",
            "4\n",
            "9\n",
            "16\n",
            "25\n",
            "36\n",
            "49\n",
            "64\n",
            "81\n"
          ]
        }
      ]
    },
    {
      "cell_type": "code",
      "metadata": {
        "id": "-NyTU8609ndX",
        "colab": {
          "base_uri": "https://localhost:8080/"
        },
        "outputId": "7b54d22c-f8e3-4942-9c31-95b9d844e5f2"
      },
      "source": [
        "# Loop for with a range\n",
        "for item in range(6,13):\n",
        "  print(item)"
      ],
      "execution_count": null,
      "outputs": [
        {
          "output_type": "stream",
          "name": "stdout",
          "text": [
            "6\n",
            "7\n",
            "8\n",
            "9\n",
            "10\n",
            "11\n",
            "12\n"
          ]
        }
      ]
    },
    {
      "cell_type": "code",
      "metadata": {
        "id": "hskUDXYd-fPF",
        "colab": {
          "base_uri": "https://localhost:8080/"
        },
        "outputId": "15e1f462-25fa-4f0f-ef14-7f98fe825067"
      },
      "source": [
        "# Loop in list\n",
        "[item**2 for item in range(1,10)]"
      ],
      "execution_count": null,
      "outputs": [
        {
          "output_type": "execute_result",
          "data": {
            "text/plain": [
              "[1, 4, 9, 16, 25, 36, 49, 64, 81]"
            ]
          },
          "metadata": {},
          "execution_count": 13
        }
      ]
    },
    {
      "cell_type": "markdown",
      "metadata": {
        "id": "-9ElsbKP-xvK"
      },
      "source": [
        "##### Loop While"
      ]
    },
    {
      "cell_type": "code",
      "metadata": {
        "id": "5XyND1LW-zbU",
        "colab": {
          "base_uri": "https://localhost:8080/"
        },
        "outputId": "06212e70-3d32-4a0d-c926-958e40ca112f"
      },
      "source": [
        "# Loop while\n",
        "i = 1\n",
        "while i<=15:\n",
        "  print(i)\n",
        "  i += 1"
      ],
      "execution_count": null,
      "outputs": [
        {
          "output_type": "stream",
          "name": "stdout",
          "text": [
            "1\n",
            "2\n",
            "3\n",
            "4\n",
            "5\n",
            "6\n",
            "7\n",
            "8\n",
            "9\n",
            "10\n",
            "11\n",
            "12\n",
            "13\n",
            "14\n",
            "15\n"
          ]
        }
      ]
    },
    {
      "cell_type": "markdown",
      "metadata": {
        "id": "0KASxCEe_dXD"
      },
      "source": [
        "### Functions"
      ]
    },
    {
      "cell_type": "markdown",
      "metadata": {
        "id": "emrr2xJjhmKd"
      },
      "source": [
        "##### Basics function"
      ]
    },
    {
      "cell_type": "code",
      "metadata": {
        "id": "n01Kh4uE_e-8"
      },
      "source": [
        "# Basic function\n",
        "def my_function(param1,param2,param3):\n",
        "  \"\"\"\n",
        "  Documentation\n",
        "  \"\"\"\n",
        "\n",
        "  return param1+param2+param3"
      ],
      "execution_count": null,
      "outputs": []
    },
    {
      "cell_type": "code",
      "metadata": {
        "id": "8wzkxoiYNQsz",
        "colab": {
          "base_uri": "https://localhost:8080/"
        },
        "outputId": "1d79465f-3e90-4c2b-987d-b2f5a59872e9"
      },
      "source": [
        "my_function(1,2,3)"
      ],
      "execution_count": null,
      "outputs": [
        {
          "output_type": "execute_result",
          "data": {
            "text/plain": [
              "6"
            ]
          },
          "metadata": {},
          "execution_count": 18
        }
      ]
    },
    {
      "cell_type": "code",
      "metadata": {
        "id": "8_wiPu6VAskz"
      },
      "source": [
        "# default setting\n",
        "def my_function_bis(param1,param2=3,param3=6):\n",
        "  \"\"\"\n",
        "  Documentation\n",
        "  \"\"\"\n",
        "\n",
        "  return param1+param2+param3"
      ],
      "execution_count": null,
      "outputs": []
    },
    {
      "cell_type": "code",
      "metadata": {
        "id": "x7Re2mAOpYrx",
        "colab": {
          "base_uri": "https://localhost:8080/"
        },
        "outputId": "a09859b6-2f0e-4fa9-93db-1998b7e954e6"
      },
      "source": [
        "my_function_bis(3)"
      ],
      "execution_count": null,
      "outputs": [
        {
          "output_type": "execute_result",
          "data": {
            "text/plain": [
              "12"
            ]
          },
          "metadata": {},
          "execution_count": 23
        }
      ]
    },
    {
      "cell_type": "markdown",
      "metadata": {
        "id": "S0TnQtBMfRXB"
      },
      "source": [
        "##### Local Variable"
      ]
    },
    {
      "cell_type": "code",
      "metadata": {
        "id": "bV9cH9ASfUfR",
        "colab": {
          "base_uri": "https://localhost:8080/"
        },
        "outputId": "af68cd0b-889a-476e-90d1-aff8b46df5c8"
      },
      "source": [
        "# Variable\n",
        "glo = 50\n",
        "glo"
      ],
      "execution_count": null,
      "outputs": [
        {
          "output_type": "execute_result",
          "data": {
            "text/plain": [
              "50"
            ]
          },
          "metadata": {},
          "execution_count": 24
        }
      ]
    },
    {
      "cell_type": "code",
      "metadata": {
        "id": "Fbg-A9BkfayT"
      },
      "source": [
        "# Local variable\n",
        "def my_function():\n",
        "  loc=60\n",
        "  print(glo)"
      ],
      "execution_count": null,
      "outputs": []
    },
    {
      "cell_type": "code",
      "metadata": {
        "id": "uAJKN7dxfojT",
        "colab": {
          "base_uri": "https://localhost:8080/",
          "height": 215
        },
        "outputId": "cd6a3b25-b8ba-4781-a19b-a21f3f0c1080"
      },
      "source": [
        "# Glo can go in the function\n",
        "my_function()\n",
        "\n",
        "print(loc)"
      ],
      "execution_count": null,
      "outputs": [
        {
          "output_type": "stream",
          "name": "stdout",
          "text": [
            "50\n"
          ]
        },
        {
          "output_type": "error",
          "ename": "NameError",
          "evalue": "ignored",
          "traceback": [
            "\u001b[0;31m---------------------------------------------------------------------------\u001b[0m",
            "\u001b[0;31mNameError\u001b[0m                                 Traceback (most recent call last)",
            "\u001b[0;32m<ipython-input-27-2be637dcc49b>\u001b[0m in \u001b[0;36m<module>\u001b[0;34m()\u001b[0m\n\u001b[1;32m      2\u001b[0m \u001b[0mmy_function\u001b[0m\u001b[0;34m(\u001b[0m\u001b[0;34m)\u001b[0m\u001b[0;34m\u001b[0m\u001b[0;34m\u001b[0m\u001b[0m\n\u001b[1;32m      3\u001b[0m \u001b[0;34m\u001b[0m\u001b[0m\n\u001b[0;32m----> 4\u001b[0;31m \u001b[0mprint\u001b[0m\u001b[0;34m(\u001b[0m\u001b[0mloc\u001b[0m\u001b[0;34m)\u001b[0m\u001b[0;34m\u001b[0m\u001b[0;34m\u001b[0m\u001b[0m\n\u001b[0m",
            "\u001b[0;31mNameError\u001b[0m: name 'loc' is not defined"
          ]
        }
      ]
    },
    {
      "cell_type": "markdown",
      "metadata": {
        "id": "F8rax_dDgnFI"
      },
      "source": [
        "##### Global Variable"
      ]
    },
    {
      "cell_type": "code",
      "metadata": {
        "id": "7330M1h4gpnQ"
      },
      "source": [
        "# Global variable  \n",
        "def my_function():\n",
        "  global variable\n",
        "  variable=15"
      ],
      "execution_count": null,
      "outputs": []
    },
    {
      "cell_type": "code",
      "metadata": {
        "id": "LgzzqLCDgp-M"
      },
      "source": [
        "# Run the function and print the global variable \n",
        "my_function()"
      ],
      "execution_count": null,
      "outputs": []
    },
    {
      "cell_type": "code",
      "metadata": {
        "colab": {
          "base_uri": "https://localhost:8080/"
        },
        "id": "KFEQ7BB-2m5g",
        "outputId": "4a40a4de-995a-4eca-b18b-bce5d6b1c213"
      },
      "source": [
        "print(variable)"
      ],
      "execution_count": null,
      "outputs": [
        {
          "output_type": "stream",
          "name": "stdout",
          "text": [
            "15\n"
          ]
        }
      ]
    },
    {
      "cell_type": "markdown",
      "metadata": {
        "id": "4NWfx4mRhpgX"
      },
      "source": [
        "##### Lambda"
      ]
    },
    {
      "cell_type": "code",
      "metadata": {
        "id": "mhxlEyFthuQa"
      },
      "source": [
        "# Creation lambda oject\n",
        "f = lambda x: x**2"
      ],
      "execution_count": null,
      "outputs": []
    },
    {
      "cell_type": "code",
      "metadata": {
        "id": "NFQxwMIWh-B_",
        "colab": {
          "base_uri": "https://localhost:8080/"
        },
        "outputId": "34fab93f-0767-4376-f774-a49c803b5900"
      },
      "source": [
        "# Create a list to apply a lambda function\n",
        "lis = [1,2,3,4,5,6,7,8]\n",
        "\n",
        "# Use map function to apply lambda function to a list\n",
        "generator = map(f,lis)\n",
        "generator"
      ],
      "execution_count": null,
      "outputs": [
        {
          "output_type": "execute_result",
          "data": {
            "text/plain": [
              "<map at 0x7f60eda1d2d0>"
            ]
          },
          "metadata": {},
          "execution_count": 44
        }
      ]
    },
    {
      "cell_type": "code",
      "metadata": {
        "id": "_AX5enMai7O-",
        "colab": {
          "base_uri": "https://localhost:8080/"
        },
        "outputId": "178339cc-a899-4ee3-92d2-1ee4ca6a7369"
      },
      "source": [
        "# Map the list\n",
        "list(generator)"
      ],
      "execution_count": null,
      "outputs": [
        {
          "output_type": "execute_result",
          "data": {
            "text/plain": [
              "[1, 4, 9, 16, 25, 36, 49, 64]"
            ]
          },
          "metadata": {},
          "execution_count": 45
        }
      ]
    },
    {
      "cell_type": "code",
      "metadata": {
        "id": "bWRIV_RZ4cBs"
      },
      "source": [
        ""
      ],
      "execution_count": null,
      "outputs": []
    }
  ]
}
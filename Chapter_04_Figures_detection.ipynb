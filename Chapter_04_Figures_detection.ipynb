{
  "nbformat": 4,
  "nbformat_minor": 0,
  "metadata": {
    "colab": {
      "name": "EN - PA Chapter 06: Figures recognition .ipynb",
      "provenance": []
    },
    "kernelspec": {
      "name": "python3",
      "display_name": "Python 3"
    },
    "language_info": {
      "name": "python"
    }
  },
  "cells": [
    {
      "cell_type": "markdown",
      "source": [
        "<p><img alt=\"Colaboratory logo\" height=\"45px\" src=\"https://www.quantreo.com/wp-content/uploads/2021/10/Original-on-Transparent.png\" align=\"left\" hspace=\"10px\" vspace=\"0px\"></p>\n",
        "\n",
        "# Figures detection\n",
        "\n",
        "\n",
        "<br>\n",
        "\n",
        "\n",
        "📈Join our community: https://discord.gg/wXjNPAc5BH\n",
        "\n",
        "📚Read our book: https://www.amazon.com/gp/product/B09HG18CYL \n",
        "\n",
        "🖥️Quantreo's YouTube channel: https://www.youtube.com/channel/UCp7jckfiEglNf_Gj62VR0pw"
      ],
      "metadata": {
        "id": "eHAsKZTzZD9g"
      }
    },
    {
      "cell_type": "code",
      "execution_count": null,
      "metadata": {
        "colab": {
          "base_uri": "https://localhost:8080/"
        },
        "id": "WgM-HHzQYuTn",
        "outputId": "c3a191d1-6f70-4b11-acfc-308d2a8fffba"
      },
      "outputs": [
        {
          "output_type": "stream",
          "name": "stdout",
          "text": [
            "Collecting yfinance\n",
            "  Downloading yfinance-0.1.70-py2.py3-none-any.whl (26 kB)\n",
            "Requirement already satisfied: pandas>=0.24.0 in /usr/local/lib/python3.7/dist-packages (from yfinance) (1.3.5)\n",
            "Requirement already satisfied: multitasking>=0.0.7 in /usr/local/lib/python3.7/dist-packages (from yfinance) (0.0.10)\n",
            "Collecting requests>=2.26\n",
            "  Downloading requests-2.27.1-py2.py3-none-any.whl (63 kB)\n",
            "\u001b[K     |████████████████████████████████| 63 kB 1.8 MB/s \n",
            "\u001b[?25hRequirement already satisfied: numpy>=1.15 in /usr/local/lib/python3.7/dist-packages (from yfinance) (1.21.5)\n",
            "Collecting lxml>=4.5.1\n",
            "  Downloading lxml-4.8.0-cp37-cp37m-manylinux_2_17_x86_64.manylinux2014_x86_64.manylinux_2_24_x86_64.whl (6.4 MB)\n",
            "\u001b[K     |████████████████████████████████| 6.4 MB 46.4 MB/s \n",
            "\u001b[?25hRequirement already satisfied: python-dateutil>=2.7.3 in /usr/local/lib/python3.7/dist-packages (from pandas>=0.24.0->yfinance) (2.8.2)\n",
            "Requirement already satisfied: pytz>=2017.3 in /usr/local/lib/python3.7/dist-packages (from pandas>=0.24.0->yfinance) (2018.9)\n",
            "Requirement already satisfied: six>=1.5 in /usr/local/lib/python3.7/dist-packages (from python-dateutil>=2.7.3->pandas>=0.24.0->yfinance) (1.15.0)\n",
            "Requirement already satisfied: urllib3<1.27,>=1.21.1 in /usr/local/lib/python3.7/dist-packages (from requests>=2.26->yfinance) (1.24.3)\n",
            "Requirement already satisfied: certifi>=2017.4.17 in /usr/local/lib/python3.7/dist-packages (from requests>=2.26->yfinance) (2021.10.8)\n",
            "Requirement already satisfied: charset-normalizer~=2.0.0 in /usr/local/lib/python3.7/dist-packages (from requests>=2.26->yfinance) (2.0.12)\n",
            "Requirement already satisfied: idna<4,>=2.5 in /usr/local/lib/python3.7/dist-packages (from requests>=2.26->yfinance) (2.10)\n",
            "Installing collected packages: requests, lxml, yfinance\n",
            "  Attempting uninstall: requests\n",
            "    Found existing installation: requests 2.23.0\n",
            "    Uninstalling requests-2.23.0:\n",
            "      Successfully uninstalled requests-2.23.0\n",
            "  Attempting uninstall: lxml\n",
            "    Found existing installation: lxml 4.2.6\n",
            "    Uninstalling lxml-4.2.6:\n",
            "      Successfully uninstalled lxml-4.2.6\n",
            "\u001b[31mERROR: pip's dependency resolver does not currently take into account all the packages that are installed. This behaviour is the source of the following dependency conflicts.\n",
            "google-colab 1.0.0 requires requests~=2.23.0, but you have requests 2.27.1 which is incompatible.\n",
            "datascience 0.10.6 requires folium==0.2.1, but you have folium 0.8.3 which is incompatible.\u001b[0m\n",
            "Successfully installed lxml-4.8.0 requests-2.27.1 yfinance-0.1.70\n",
            "Collecting mpl_finance\n",
            "  Downloading mpl_finance-0.10.1-py3-none-any.whl (8.4 kB)\n",
            "Requirement already satisfied: matplotlib in /usr/local/lib/python3.7/dist-packages (from mpl_finance) (3.2.2)\n",
            "Requirement already satisfied: cycler>=0.10 in /usr/local/lib/python3.7/dist-packages (from matplotlib->mpl_finance) (0.11.0)\n",
            "Requirement already satisfied: kiwisolver>=1.0.1 in /usr/local/lib/python3.7/dist-packages (from matplotlib->mpl_finance) (1.3.2)\n",
            "Requirement already satisfied: pyparsing!=2.0.4,!=2.1.2,!=2.1.6,>=2.0.1 in /usr/local/lib/python3.7/dist-packages (from matplotlib->mpl_finance) (3.0.7)\n",
            "Requirement already satisfied: python-dateutil>=2.1 in /usr/local/lib/python3.7/dist-packages (from matplotlib->mpl_finance) (2.8.2)\n",
            "Requirement already satisfied: numpy>=1.11 in /usr/local/lib/python3.7/dist-packages (from matplotlib->mpl_finance) (1.21.5)\n",
            "Requirement already satisfied: six>=1.5 in /usr/local/lib/python3.7/dist-packages (from python-dateutil>=2.1->matplotlib->mpl_finance) (1.15.0)\n",
            "Installing collected packages: mpl-finance\n",
            "Successfully installed mpl-finance-0.10.1\n"
          ]
        }
      ],
      "source": [
        "!pip install yfinance\n",
        "!pip install mpl_finance"
      ]
    },
    {
      "cell_type": "code",
      "source": [
        "import pandas as pd\n",
        "import numpy as np\n",
        "import yfinance as yf\n",
        "from mpl_finance import candlestick_ohlc\n",
        "import matplotlib.dates as mpl_dates\n",
        "import matplotlib.pyplot as plt"
      ],
      "metadata": {
        "id": "Od_87k3EZXNM"
      },
      "execution_count": null,
      "outputs": []
    },
    {
      "cell_type": "code",
      "source": [
        "# The code here will allow you to switch your graphics to dark mode for those who choose to code in dark mode\n",
        "import matplotlib.pyplot as plt\n",
        "\n",
        "import matplotlib as mpl\n",
        "from matplotlib import cycler\n",
        "colors = cycler('color',\n",
        "                ['#669FEE', '#66EE91', '#9988DD',\n",
        "                 '#EECC55', '#88BB44', '#FFBBBB'])\n",
        "plt.rc('figure', facecolor='#313233')\n",
        "plt.rc('axes', facecolor=\"#313233\", edgecolor='none',\n",
        "       axisbelow=True, grid=True, prop_cycle=colors,\n",
        "       labelcolor='gray')\n",
        "plt.rc('grid', color='474A4A', linestyle='solid')\n",
        "plt.rc('xtick', color='gray')\n",
        "plt.rc('ytick', direction='out', color='gray')\n",
        "plt.rc('legend', facecolor=\"#313233\", edgecolor=\"#313233\")\n",
        "plt.rc(\"text\", color=\"#C9C9C9\")\n",
        "plt.rcParams['figure.figsize'] = [20, 8]"
      ],
      "metadata": {
        "id": "g96nPxUmZZN4"
      },
      "execution_count": null,
      "outputs": []
    },
    {
      "cell_type": "markdown",
      "source": [
        "# Import the data"
      ],
      "metadata": {
        "id": "3F3tzj1dZcX0"
      }
    },
    {
      "cell_type": "code",
      "source": [
        "# Import stock prices from Yahoo Finance\n",
        "df = yf.download(\"GOOG\", start=\"2010-01-01\")\n",
        "\n",
        "# Create a Date column to plot the Candlestick later (Not mandatory if you don't want to plot the candlestick)\n",
        "df[\"Date\"] = pd.to_datetime(df.index)\n",
        "df[\"Date\"] = df[\"Date\"].apply(mpl_dates.date2num)\n",
        "\n",
        "\n",
        "# Rename columns\n",
        "df.columns = [\"open\", \"high\", \"low\", \"close\", \"adj close\", \"volume\", \"date\"]\n",
        "df.index.name = \"time\"\n",
        "\n",
        "df[\"Candle way\"] = -1\n",
        "df.loc[(df[\"open\"] - df[\"close\"]) < 0, \"Candle way\"] = 1\n",
        "df[\"amplitude\"] = np.abs(df[\"close\"] - df[\"open\"])\n",
        "\n",
        "\n",
        "df"
      ],
      "metadata": {
        "colab": {
          "base_uri": "https://localhost:8080/",
          "height": 467
        },
        "id": "XPg7jeVyZbYh",
        "outputId": "1667ff67-9b3d-40c1-fe1a-3f4b5e0867ca"
      },
      "execution_count": null,
      "outputs": [
        {
          "output_type": "stream",
          "name": "stdout",
          "text": [
            "\r[*********************100%***********************]  1 of 1 completed\n"
          ]
        },
        {
          "output_type": "execute_result",
          "data": {
            "text/html": [
              "\n",
              "  <div id=\"df-c7759fc2-1831-440c-8827-f3e89d10262e\">\n",
              "    <div class=\"colab-df-container\">\n",
              "      <div>\n",
              "<style scoped>\n",
              "    .dataframe tbody tr th:only-of-type {\n",
              "        vertical-align: middle;\n",
              "    }\n",
              "\n",
              "    .dataframe tbody tr th {\n",
              "        vertical-align: top;\n",
              "    }\n",
              "\n",
              "    .dataframe thead th {\n",
              "        text-align: right;\n",
              "    }\n",
              "</style>\n",
              "<table border=\"1\" class=\"dataframe\">\n",
              "  <thead>\n",
              "    <tr style=\"text-align: right;\">\n",
              "      <th></th>\n",
              "      <th>open</th>\n",
              "      <th>high</th>\n",
              "      <th>low</th>\n",
              "      <th>close</th>\n",
              "      <th>adj close</th>\n",
              "      <th>volume</th>\n",
              "      <th>date</th>\n",
              "      <th>Candle way</th>\n",
              "      <th>amplitude</th>\n",
              "    </tr>\n",
              "    <tr>\n",
              "      <th>time</th>\n",
              "      <th></th>\n",
              "      <th></th>\n",
              "      <th></th>\n",
              "      <th></th>\n",
              "      <th></th>\n",
              "      <th></th>\n",
              "      <th></th>\n",
              "      <th></th>\n",
              "      <th></th>\n",
              "    </tr>\n",
              "  </thead>\n",
              "  <tbody>\n",
              "    <tr>\n",
              "      <th>2010-01-04</th>\n",
              "      <td>312.304413</td>\n",
              "      <td>313.579620</td>\n",
              "      <td>310.954468</td>\n",
              "      <td>312.204773</td>\n",
              "      <td>312.204773</td>\n",
              "      <td>3927065</td>\n",
              "      <td>733776.0</td>\n",
              "      <td>-1</td>\n",
              "      <td>0.099640</td>\n",
              "    </tr>\n",
              "    <tr>\n",
              "      <th>2010-01-05</th>\n",
              "      <td>312.418976</td>\n",
              "      <td>312.747742</td>\n",
              "      <td>309.609497</td>\n",
              "      <td>310.829926</td>\n",
              "      <td>310.829926</td>\n",
              "      <td>6031925</td>\n",
              "      <td>733777.0</td>\n",
              "      <td>-1</td>\n",
              "      <td>1.589050</td>\n",
              "    </tr>\n",
              "    <tr>\n",
              "      <th>2010-01-06</th>\n",
              "      <td>311.761444</td>\n",
              "      <td>311.761444</td>\n",
              "      <td>302.047852</td>\n",
              "      <td>302.994293</td>\n",
              "      <td>302.994293</td>\n",
              "      <td>7987226</td>\n",
              "      <td>733778.0</td>\n",
              "      <td>-1</td>\n",
              "      <td>8.767151</td>\n",
              "    </tr>\n",
              "    <tr>\n",
              "      <th>2010-01-07</th>\n",
              "      <td>303.562164</td>\n",
              "      <td>303.861053</td>\n",
              "      <td>295.218445</td>\n",
              "      <td>295.940735</td>\n",
              "      <td>295.940735</td>\n",
              "      <td>12876685</td>\n",
              "      <td>733779.0</td>\n",
              "      <td>-1</td>\n",
              "      <td>7.621429</td>\n",
              "    </tr>\n",
              "    <tr>\n",
              "      <th>2010-01-08</th>\n",
              "      <td>294.894653</td>\n",
              "      <td>300.498657</td>\n",
              "      <td>293.455048</td>\n",
              "      <td>299.885956</td>\n",
              "      <td>299.885956</td>\n",
              "      <td>9484016</td>\n",
              "      <td>733780.0</td>\n",
              "      <td>1</td>\n",
              "      <td>4.991302</td>\n",
              "    </tr>\n",
              "    <tr>\n",
              "      <th>...</th>\n",
              "      <td>...</td>\n",
              "      <td>...</td>\n",
              "      <td>...</td>\n",
              "      <td>...</td>\n",
              "      <td>...</td>\n",
              "      <td>...</td>\n",
              "      <td>...</td>\n",
              "      <td>...</td>\n",
              "      <td>...</td>\n",
              "    </tr>\n",
              "    <tr>\n",
              "      <th>2022-02-28</th>\n",
              "      <td>2665.689941</td>\n",
              "      <td>2712.810059</td>\n",
              "      <td>2656.504883</td>\n",
              "      <td>2697.820068</td>\n",
              "      <td>2697.820068</td>\n",
              "      <td>1483800</td>\n",
              "      <td>738214.0</td>\n",
              "      <td>1</td>\n",
              "      <td>32.130127</td>\n",
              "    </tr>\n",
              "    <tr>\n",
              "      <th>2022-03-01</th>\n",
              "      <td>2689.600098</td>\n",
              "      <td>2722.219971</td>\n",
              "      <td>2667.570068</td>\n",
              "      <td>2683.360107</td>\n",
              "      <td>2683.360107</td>\n",
              "      <td>1232000</td>\n",
              "      <td>738215.0</td>\n",
              "      <td>-1</td>\n",
              "      <td>6.239990</td>\n",
              "    </tr>\n",
              "    <tr>\n",
              "      <th>2022-03-02</th>\n",
              "      <td>2692.165039</td>\n",
              "      <td>2712.310059</td>\n",
              "      <td>2668.649902</td>\n",
              "      <td>2695.030029</td>\n",
              "      <td>2695.030029</td>\n",
              "      <td>1198300</td>\n",
              "      <td>738216.0</td>\n",
              "      <td>1</td>\n",
              "      <td>2.864990</td>\n",
              "    </tr>\n",
              "    <tr>\n",
              "      <th>2022-03-03</th>\n",
              "      <td>2719.570068</td>\n",
              "      <td>2734.275879</td>\n",
              "      <td>2668.620117</td>\n",
              "      <td>2686.159912</td>\n",
              "      <td>2686.159912</td>\n",
              "      <td>986200</td>\n",
              "      <td>738217.0</td>\n",
              "      <td>-1</td>\n",
              "      <td>33.410156</td>\n",
              "    </tr>\n",
              "    <tr>\n",
              "      <th>2022-03-04</th>\n",
              "      <td>2667.649902</td>\n",
              "      <td>2681.800049</td>\n",
              "      <td>2608.169922</td>\n",
              "      <td>2642.439941</td>\n",
              "      <td>2642.439941</td>\n",
              "      <td>1192835</td>\n",
              "      <td>738218.0</td>\n",
              "      <td>-1</td>\n",
              "      <td>25.209961</td>\n",
              "    </tr>\n",
              "  </tbody>\n",
              "</table>\n",
              "<p>3064 rows × 9 columns</p>\n",
              "</div>\n",
              "      <button class=\"colab-df-convert\" onclick=\"convertToInteractive('df-c7759fc2-1831-440c-8827-f3e89d10262e')\"\n",
              "              title=\"Convert this dataframe to an interactive table.\"\n",
              "              style=\"display:none;\">\n",
              "        \n",
              "  <svg xmlns=\"http://www.w3.org/2000/svg\" height=\"24px\"viewBox=\"0 0 24 24\"\n",
              "       width=\"24px\">\n",
              "    <path d=\"M0 0h24v24H0V0z\" fill=\"none\"/>\n",
              "    <path d=\"M18.56 5.44l.94 2.06.94-2.06 2.06-.94-2.06-.94-.94-2.06-.94 2.06-2.06.94zm-11 1L8.5 8.5l.94-2.06 2.06-.94-2.06-.94L8.5 2.5l-.94 2.06-2.06.94zm10 10l.94 2.06.94-2.06 2.06-.94-2.06-.94-.94-2.06-.94 2.06-2.06.94z\"/><path d=\"M17.41 7.96l-1.37-1.37c-.4-.4-.92-.59-1.43-.59-.52 0-1.04.2-1.43.59L10.3 9.45l-7.72 7.72c-.78.78-.78 2.05 0 2.83L4 21.41c.39.39.9.59 1.41.59.51 0 1.02-.2 1.41-.59l7.78-7.78 2.81-2.81c.8-.78.8-2.07 0-2.86zM5.41 20L4 18.59l7.72-7.72 1.47 1.35L5.41 20z\"/>\n",
              "  </svg>\n",
              "      </button>\n",
              "      \n",
              "  <style>\n",
              "    .colab-df-container {\n",
              "      display:flex;\n",
              "      flex-wrap:wrap;\n",
              "      gap: 12px;\n",
              "    }\n",
              "\n",
              "    .colab-df-convert {\n",
              "      background-color: #E8F0FE;\n",
              "      border: none;\n",
              "      border-radius: 50%;\n",
              "      cursor: pointer;\n",
              "      display: none;\n",
              "      fill: #1967D2;\n",
              "      height: 32px;\n",
              "      padding: 0 0 0 0;\n",
              "      width: 32px;\n",
              "    }\n",
              "\n",
              "    .colab-df-convert:hover {\n",
              "      background-color: #E2EBFA;\n",
              "      box-shadow: 0px 1px 2px rgba(60, 64, 67, 0.3), 0px 1px 3px 1px rgba(60, 64, 67, 0.15);\n",
              "      fill: #174EA6;\n",
              "    }\n",
              "\n",
              "    [theme=dark] .colab-df-convert {\n",
              "      background-color: #3B4455;\n",
              "      fill: #D2E3FC;\n",
              "    }\n",
              "\n",
              "    [theme=dark] .colab-df-convert:hover {\n",
              "      background-color: #434B5C;\n",
              "      box-shadow: 0px 1px 3px 1px rgba(0, 0, 0, 0.15);\n",
              "      filter: drop-shadow(0px 1px 2px rgba(0, 0, 0, 0.3));\n",
              "      fill: #FFFFFF;\n",
              "    }\n",
              "  </style>\n",
              "\n",
              "      <script>\n",
              "        const buttonEl =\n",
              "          document.querySelector('#df-c7759fc2-1831-440c-8827-f3e89d10262e button.colab-df-convert');\n",
              "        buttonEl.style.display =\n",
              "          google.colab.kernel.accessAllowed ? 'block' : 'none';\n",
              "\n",
              "        async function convertToInteractive(key) {\n",
              "          const element = document.querySelector('#df-c7759fc2-1831-440c-8827-f3e89d10262e');\n",
              "          const dataTable =\n",
              "            await google.colab.kernel.invokeFunction('convertToInteractive',\n",
              "                                                     [key], {});\n",
              "          if (!dataTable) return;\n",
              "\n",
              "          const docLinkHtml = 'Like what you see? Visit the ' +\n",
              "            '<a target=\"_blank\" href=https://colab.research.google.com/notebooks/data_table.ipynb>data table notebook</a>'\n",
              "            + ' to learn more about interactive tables.';\n",
              "          element.innerHTML = '';\n",
              "          dataTable['output_type'] = 'display_data';\n",
              "          await google.colab.output.renderOutput(dataTable, element);\n",
              "          const docLink = document.createElement('div');\n",
              "          docLink.innerHTML = docLinkHtml;\n",
              "          element.appendChild(docLink);\n",
              "        }\n",
              "      </script>\n",
              "    </div>\n",
              "  </div>\n",
              "  "
            ],
            "text/plain": [
              "                   open         high          low        close    adj close  \\\n",
              "time                                                                          \n",
              "2010-01-04   312.304413   313.579620   310.954468   312.204773   312.204773   \n",
              "2010-01-05   312.418976   312.747742   309.609497   310.829926   310.829926   \n",
              "2010-01-06   311.761444   311.761444   302.047852   302.994293   302.994293   \n",
              "2010-01-07   303.562164   303.861053   295.218445   295.940735   295.940735   \n",
              "2010-01-08   294.894653   300.498657   293.455048   299.885956   299.885956   \n",
              "...                 ...          ...          ...          ...          ...   \n",
              "2022-02-28  2665.689941  2712.810059  2656.504883  2697.820068  2697.820068   \n",
              "2022-03-01  2689.600098  2722.219971  2667.570068  2683.360107  2683.360107   \n",
              "2022-03-02  2692.165039  2712.310059  2668.649902  2695.030029  2695.030029   \n",
              "2022-03-03  2719.570068  2734.275879  2668.620117  2686.159912  2686.159912   \n",
              "2022-03-04  2667.649902  2681.800049  2608.169922  2642.439941  2642.439941   \n",
              "\n",
              "              volume      date  Candle way  amplitude  \n",
              "time                                                   \n",
              "2010-01-04   3927065  733776.0          -1   0.099640  \n",
              "2010-01-05   6031925  733777.0          -1   1.589050  \n",
              "2010-01-06   7987226  733778.0          -1   8.767151  \n",
              "2010-01-07  12876685  733779.0          -1   7.621429  \n",
              "2010-01-08   9484016  733780.0           1   4.991302  \n",
              "...              ...       ...         ...        ...  \n",
              "2022-02-28   1483800  738214.0           1  32.130127  \n",
              "2022-03-01   1232000  738215.0          -1   6.239990  \n",
              "2022-03-02   1198300  738216.0           1   2.864990  \n",
              "2022-03-03    986200  738217.0          -1  33.410156  \n",
              "2022-03-04   1192835  738218.0          -1  25.209961  \n",
              "\n",
              "[3064 rows x 9 columns]"
            ]
          },
          "metadata": {},
          "execution_count": 9
        }
      ]
    },
    {
      "cell_type": "markdown",
      "source": [
        "# Bullish engulfing"
      ],
      "metadata": {
        "id": "Ysgt9wqS8LsL"
      }
    },
    {
      "cell_type": "code",
      "source": [
        "df[\"Bullish Engulfing\"] = np.nan\n",
        "\n",
        "df.loc[\n",
        "       # 5 consequtive decreasing candlestick and Today increase\n",
        "       (df[\"Candle way\"].shift(5) == -1) &\\\n",
        "       (df[\"Candle way\"].shift(4) == -1) &\\\n",
        "       (df[\"Candle way\"].shift(3) == -1) &\\\n",
        "       (df[\"Candle way\"].shift(2) == -1) &\\\n",
        "       (df[\"Candle way\"].shift(1) == -1) &\\\n",
        "       (df[\"Candle way\"] == 1) &\\\n",
        "      \n",
        "\n",
        "       # Close of the last decreasing candlestick = Open of today increase candlestick\n",
        "       (df[\"close\"].shift(1) < df[\"open\"]*(1+0.5/100)) &\\\n",
        "       (df[\"close\"].shift(1) > df[\"open\"]*(1-0.5/100)) &\\\n",
        "\n",
        "\n",
        "       # Last decreaing candlestick is less strong than the Today increasing candlestick\n",
        "       (df[\"amplitude\"].shift(1)*1.5 < df[\"amplitude\"]), \"Bullish Engulfing\"] = 1\n"
      ],
      "metadata": {
        "id": "SMV8jhW2Zjvl"
      },
      "execution_count": null,
      "outputs": []
    },
    {
      "cell_type": "code",
      "source": [
        "df[\"Bullish Engulfing\"].dropna()\n"
      ],
      "metadata": {
        "colab": {
          "base_uri": "https://localhost:8080/"
        },
        "id": "UaQTR-p4j6y1",
        "outputId": "7c832327-a779-471d-e098-4fec61d289af"
      },
      "execution_count": null,
      "outputs": [
        {
          "output_type": "execute_result",
          "data": {
            "text/plain": [
              "time\n",
              "2010-03-01    1.0\n",
              "2012-01-27    1.0\n",
              "2013-06-28    1.0\n",
              "2013-07-30    1.0\n",
              "2013-08-19    1.0\n",
              "2015-05-04    1.0\n",
              "2016-06-23    1.0\n",
              "2017-04-12    1.0\n",
              "2018-01-02    1.0\n",
              "2018-11-15    1.0\n",
              "Name: Bullish Engulfing, dtype: float64"
            ]
          },
          "metadata": {},
          "execution_count": 11
        }
      ]
    },
    {
      "cell_type": "markdown",
      "source": [
        "# Verification"
      ],
      "metadata": {
        "id": "9nLwPAnW-HI5"
      }
    },
    {
      "cell_type": "code",
      "source": [
        "df_bis = df.loc[\"2012-01-20\":\"2012-02-10\"]\n",
        "\n",
        "# Initialize the graph\n",
        "fig, ax = plt.subplots()\n",
        "\n",
        "# Plot the candlestick\n",
        "candlestick_ohlc(ax,df_bis[[\"date\", \"open\", \"high\", \"low\", \"close\"]].values,width=0.6, \\\n",
        "                  colorup='#57CE95', colordown='#CE5757', alpha=0.8)\n",
        "\n",
        "# Put date as the x axis\n",
        "date_format = mpl_dates.DateFormatter('%d %b %Y')\n",
        "ax.xaxis.set_major_formatter(date_format)\n",
        "fig.autofmt_xdate()\n",
        "fig.tight_layout()\n",
        "plt.show()\n",
        "plt.close()"
      ],
      "metadata": {
        "colab": {
          "base_uri": "https://localhost:8080/",
          "height": 540
        },
        "id": "T9xHn68Uj87X",
        "outputId": "0d6c1b3c-d595-49ab-b8e1-72ba8a87d89d"
      },
      "execution_count": null,
      "outputs": [
        {
          "output_type": "display_data",
          "data": {
            "image/png": "[encoded data removed]",
            "text/plain": [
              "<Figure size 1440x576 with 1 Axes>"
            ]
          },
          "metadata": {}
        }
      ]
    },
    {
      "cell_type": "markdown",
      "source": [
        "# Bearish Engulfing"
      ],
      "metadata": {
        "id": "XOHEvrdpCKxK"
      }
    },
    {
      "cell_type": "code",
      "source": [
        "df[\"Bearish Engulfing\"] = np.nan\n",
        "\n",
        "df.loc[\n",
        "       # 5 consequtive increasing candlestick and Today decrease\n",
        "       (df[\"Candle way\"].shift(5) == 1) &\\\n",
        "       (df[\"Candle way\"].shift(4) == 1) &\\\n",
        "       (df[\"Candle way\"].shift(3) == 1) &\\\n",
        "       (df[\"Candle way\"].shift(2) == 1) &\\\n",
        "       (df[\"Candle way\"].shift(1) == 1) &\\\n",
        "       (df[\"Candle way\"] == -1) &\\\n",
        "\n",
        "       # Close of the last increasing candlestick = Open of today decrease candlestick\n",
        "       (df[\"close\"].shift(1) < df[\"open\"]*(1+0.5/100)) &\\\n",
        "       (df[\"close\"].shift(1) > df[\"open\"]*(1-0.5/100)) &\\\n",
        "\n",
        "       # Last increaing candlestick is less strong than the Today decreasing candlestick\n",
        "       (df[\"amplitude\"].shift(1) * 1.5< df[\"amplitude\"]), \"Bearish Engulfing\"] = -1"
      ],
      "metadata": {
        "id": "qrmMYpaAmJkq"
      },
      "execution_count": null,
      "outputs": []
    },
    {
      "cell_type": "code",
      "source": [
        "df[\"Bearish Engulfing\"].dropna()"
      ],
      "metadata": {
        "colab": {
          "base_uri": "https://localhost:8080/"
        },
        "id": "bN4hrJoOpAni",
        "outputId": "97e9a24f-1ab8-4c76-d1df-d7a25a9035a6"
      },
      "execution_count": null,
      "outputs": [
        {
          "output_type": "execute_result",
          "data": {
            "text/plain": [
              "time\n",
              "2015-03-06   -1.0\n",
              "2015-07-23   -1.0\n",
              "2015-11-09   -1.0\n",
              "2017-05-31   -1.0\n",
              "2018-02-22   -1.0\n",
              "2019-12-11   -1.0\n",
              "2020-02-20   -1.0\n",
              "2020-12-09   -1.0\n",
              "2021-07-15   -1.0\n",
              "2021-07-27   -1.0\n",
              "2021-08-26   -1.0\n",
              "2021-12-28   -1.0\n",
              "Name: Bearish Engulfing, dtype: float64"
            ]
          },
          "metadata": {},
          "execution_count": 15
        }
      ]
    },
    {
      "cell_type": "code",
      "source": [
        "df_bis = df.loc[\"2015-02-27\":\"2015-03-15\"]\n",
        "\n",
        "# Initialize the graph\n",
        "fig, ax = plt.subplots()\n",
        "\n",
        "# Plot the candlestick\n",
        "candlestick_ohlc(ax,df_bis[[\"date\", \"open\", \"high\", \"low\", \"close\"]].values,width=0.6, \\\n",
        "                  colorup='#57CE95', colordown='#CE5757', alpha=0.8)\n",
        "\n",
        "# Put date as the x axis\n",
        "date_format = mpl_dates.DateFormatter('%d %b %Y')\n",
        "ax.xaxis.set_major_formatter(date_format)\n",
        "fig.autofmt_xdate()\n",
        "fig.tight_layout()"
      ],
      "metadata": {
        "colab": {
          "base_uri": "https://localhost:8080/",
          "height": 540
        },
        "id": "uU0AkkQVpByu",
        "outputId": "55d57f26-6fba-4ea9-9eca-1fefc1cf81a4"
      },
      "execution_count": null,
      "outputs": [
        {
          "output_type": "display_data",
          "data": {
            "image/png": "[encoded data removed]",
            "text/plain": [
              "<Figure size 1440x576 with 1 Axes>"
            ]
          },
          "metadata": {}
        }
      ]
    },
    {
      "cell_type": "markdown",
      "source": [
        "# Backtest"
      ],
      "metadata": {
        "id": "F2JYiZ-up2RI"
      }
    },
    {
      "cell_type": "code",
      "source": [
        "df[\"signal\"] = df[\"Bullish Engulfing\"].fillna(value=0) + df[\"Bearish Engulfing\"].fillna(value=0)\n",
        "df[\"signal\"].dropna()"
      ],
      "metadata": {
        "colab": {
          "base_uri": "https://localhost:8080/"
        },
        "id": "Pq0GtswCqJ8W",
        "outputId": "4a2a5199-0251-49ac-c9c8-c5663a308c34"
      },
      "execution_count": null,
      "outputs": [
        {
          "output_type": "execute_result",
          "data": {
            "text/plain": [
              "time\n",
              "2010-01-04    0.0\n",
              "2010-01-05    0.0\n",
              "2010-01-06    0.0\n",
              "2010-01-07    0.0\n",
              "2010-01-08    0.0\n",
              "             ... \n",
              "2022-02-28    0.0\n",
              "2022-03-01    0.0\n",
              "2022-03-02    0.0\n",
              "2022-03-03    0.0\n",
              "2022-03-04    0.0\n",
              "Name: signal, Length: 3064, dtype: float64"
            ]
          },
          "metadata": {},
          "execution_count": 16
        }
      ]
    },
    {
      "cell_type": "code",
      "source": [
        "duration = 5\n",
        "\n",
        "# Compute the percentage of variation of the asset\n",
        "df[\"pct\"] = df[\"close\"].pct_change(1)\n",
        "\n",
        "# Compute the return of the strategy\n",
        "#df[\"return\"] = df[\"signal\"].shift(1) * df[\"pct\"].shift(0)\n",
        "df[\"return\"] = df[\"signal\"].shift(2) * (df[\"pct\"].shift(0) + df[\"pct\"].shift(1))\n",
        "df[\"return\"] = np.array([df[\"pct\"].shift(i) for i in range(duration)]).sum(axis=0) * (df[\"signal\"].shift(duration))\n",
        "\n",
        "\n",
        "df[\"return\"].cumsum().plot(figsize=(15,8))"
      ],
      "metadata": {
        "colab": {
          "base_uri": "https://localhost:8080/",
          "height": 482
        },
        "id": "A0l-buFFp4DU",
        "outputId": "b555c611-f1ea-40c0-d8e0-1ae66e19a9ca"
      },
      "execution_count": null,
      "outputs": [
        {
          "output_type": "execute_result",
          "data": {
            "text/plain": [
              "<matplotlib.axes._subplots.AxesSubplot at 0x7faea8768210>"
            ]
          },
          "metadata": {},
          "execution_count": 28
        },
        {
          "output_type": "display_data",
          "data": {
            "image/png": "[encoded data removed]",
            "text/plain": [
              "<Figure size 1080x576 with 1 Axes>"
            ]
          },
          "metadata": {}
        }
      ]
    },
    {
      "cell_type": "markdown",
      "source": [
        "# Automatisation"
      ],
      "metadata": {
        "id": "TYPVBUjtDKRI"
      }
    },
    {
      "cell_type": "code",
      "source": [
        "def engulfing(symbol, spread=0.00, duration=5):\n",
        "  # Import stock prices from Yahoo Finance\n",
        "  df = yf.download(symbol, start=\"2010-01-01\")\n",
        "\n",
        "  # Rename columns\n",
        "  df.columns = [\"open\", \"high\", \"low\", \"close\", \"adj close\", \"volume\"]\n",
        "  df.index.name = \"time\"\n",
        "\n",
        "  df[\"Candle way\"] = -1\n",
        "  df.loc[(df[\"open\"] - df[\"close\"]) < 0, \"Candle way\"] = 1\n",
        "  df[\"amplitude\"] = np.abs(df[\"close\"] - df[\"open\"])\n",
        "\n",
        "\n",
        "  df[\"Bullish Engulfing\"] = np.nan\n",
        "\n",
        "  df.loc[\n",
        "      # 5 consequtive decreasing candlestick and Today increase\n",
        "      (df[\"Candle way\"].shift(5) == -1) &\\\n",
        "      (df[\"Candle way\"].shift(4) == -1) &\\\n",
        "      (df[\"Candle way\"].shift(3) == -1) &\\\n",
        "      (df[\"Candle way\"].shift(2) == -1) &\\\n",
        "      (df[\"Candle way\"].shift(1) == -1) &\\\n",
        "      (df[\"Candle way\"] == 1) &\\\n",
        "\n",
        "      # Close of the last decreasing candlestick = Open of today increase candlestick\n",
        "      (df[\"close\"].shift(1) < df[\"open\"]*(1+0.5/100)) &\\\n",
        "      (df[\"close\"].shift(1) > df[\"open\"]*(1-0.5/100)) &\\\n",
        "\n",
        "      # Last decreaing candlestick is less strong than the Today increasing candlestick\n",
        "      (df[\"amplitude\"].shift(1) * 1.5< df[\"amplitude\"]), \"Bullish Engulfing\"] = 1\n",
        "\n",
        "\n",
        "  df[\"Bearish Engulfing\"] = np.nan\n",
        "\n",
        "  df.loc[\n",
        "      # 5 consequtive decreasing candlestick and Today increase\n",
        "      (df[\"Candle way\"].shift(5) == 1) &\\\n",
        "      (df[\"Candle way\"].shift(4) == 1) &\\\n",
        "      (df[\"Candle way\"].shift(3) == 1) &\\\n",
        "      (df[\"Candle way\"].shift(2) == 1) &\\\n",
        "      (df[\"Candle way\"].shift(1) == 1) &\\\n",
        "      (df[\"Candle way\"] == -1) &\\\n",
        "\n",
        "      # Close of the last decreasing candlestick = Open of today increase candlestick\n",
        "      (df[\"close\"].shift(1) < df[\"open\"]*(1+0.5/100)) &\\\n",
        "      (df[\"close\"].shift(1) > df[\"open\"]*(1-0.5/100)) &\\\n",
        "\n",
        "      # Last decreaing candlestick is less strong than the Today increasing candlestick\n",
        "      (df[\"amplitude\"].shift(1) * 1.5< df[\"amplitude\"]), \"Bearish Engulfing\"] = -1\n",
        "\n",
        "  df[\"signal\"] = df[\"Bullish Engulfing\"].fillna(value=0) + df[\"Bearish Engulfing\"].fillna(value=0)\n",
        "\n",
        "  # Compute the percentage of variation of the asset\n",
        "  df[\"pct\"] = df[\"close\"].pct_change(1)\n",
        "\n",
        "  # Compute the return of the strategy\n",
        "  df[\"return\"] = np.array([df[\"pct\"].shift(i) for i in range(duration)]).sum(axis=0) * (df[\"signal\"].shift(duration))\n",
        "\n",
        "  return df[\"return\"]"
      ],
      "metadata": {
        "id": "YfQv0FZ73QyP"
      },
      "execution_count": null,
      "outputs": []
    },
    {
      "cell_type": "code",
      "source": [
        "engulfing(\"GOOG\").cumsum().plot()"
      ],
      "metadata": {
        "colab": {
          "base_uri": "https://localhost:8080/",
          "height": 499
        },
        "id": "BCtfxq2v4ZO_",
        "outputId": "0e55fc76-d968-4e1c-902e-5408cf4af12e"
      },
      "execution_count": null,
      "outputs": [
        {
          "output_type": "stream",
          "name": "stdout",
          "text": [
            "\r[*********************100%***********************]  1 of 1 completed\n"
          ]
        },
        {
          "output_type": "execute_result",
          "data": {
            "text/plain": [
              "<matplotlib.axes._subplots.AxesSubplot at 0x7faea8765e90>"
            ]
          },
          "metadata": {},
          "execution_count": 33
        },
        {
          "output_type": "display_data",
          "data": {
            "image/png": "[encoded data removed]",
            "text/plain": [
              "<Figure size 1440x576 with 1 Axes>"
            ]
          },
          "metadata": {}
        }
      ]
    },
    {
      "cell_type": "code",
      "source": [
        "engulfing(\"GOOG\").cumsum().plot()"
      ],
      "metadata": {
        "id": "xdehV8ez4efg",
        "colab": {
          "base_uri": "https://localhost:8080/",
          "height": 499
        },
        "outputId": "6bec2441-6db7-4d85-820f-244bb8dd4d9f"
      },
      "execution_count": null,
      "outputs": [
        {
          "output_type": "stream",
          "name": "stdout",
          "text": [
            "\r[*********************100%***********************]  1 of 1 completed\n"
          ]
        },
        {
          "output_type": "execute_result",
          "data": {
            "text/plain": [
              "<matplotlib.axes._subplots.AxesSubplot at 0x7faea799e250>"
            ]
          },
          "metadata": {},
          "execution_count": 37
        },
        {
          "output_type": "display_data",
          "data": {
            "image/png": "[encoded data removed]",
            "text/plain": [
              "<Figure size 1440x576 with 1 Axes>"
            ]
          },
          "metadata": {}
        }
      ]
    },
    {
      "cell_type": "code",
      "source": [
        ""
      ],
      "metadata": {
        "id": "H2MycaQNGECf"
      },
      "execution_count": null,
      "outputs": []
    }
  ]
}